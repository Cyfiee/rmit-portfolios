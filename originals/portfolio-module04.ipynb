{
	"cells": [
		{
			"attachments": {},
			"cell_type": "markdown",
			"metadata": {},
			"source": [
				"<center>\n",
				"\n",
				"# COSC3056 Programming Studio 1 Portfolio\n",
				"# Module 4: Advanced Database Design\n",
				"\n",
				"</center>"
			]
		},
		{
			"attachments": {},
			"cell_type": "markdown",
			"metadata": {},
			"source": [
				"This portfolio is created by\n",
				"\n",
				"| Name | *Add your full name* |\n",
				"|---|---|\n",
				"| Student Id | *Add your student id* |\n",
				"| Semester | Semester 3 2023 |"
			]
		},
		{
			"attachments": {},
			"cell_type": "markdown",
			"metadata": {},
			"source": [
				"### Declaration and Statement of Authorship\n",
				"\n",
				"When you submit your work electronically for studio components, you must agree to the [RMIT assessment declaration](https://www.rmit.edu.au/students/my-course/assessment-results/assessment) below.\n",
				"\n",
				"1. I/we have not impersonated, or allowed myself to be impersonated by, any person for the purposes of this assessment.\n",
				"2. This assessment is my/our original work and no part of it has been copied from any other source except where due acknowledgement\n",
				"is made.\n",
				"3. No part of this assessment has been written for me/us by any other person except where such collaboration has been authorised\n",
				"by the lecturer/teacher concerned.\n",
				"4. Where this work is being submitted for individual assessment, I declare that it is my original work and that no part has been contributed\n",
				"by, produced by or in conjunction with another student.\n",
				"5. I/we give permission for my assessment response to be reproduced, communicated compared and archived for the purposes\n",
				"of detecting plagiarism.\n",
				"6. I/we give permission for a copy of my assessment to be retained by the university for review and comparison, including review by external examiners.\n",
				"7. I/we understand that:\n",
				"    - Plagiarism is the presentation of the work, idea or creation of another person as though it is your own. It is a form of cheating and is a very serious academic offence that may lead to exclusion from the University. Plagiarised material can be drawn from, and presented in, written, graphic and visual form, including electronic data and oral presentations. Plagiarism occurs when the origin of the material used is not appropriately cited.\n",
				"    - Plagiarism includes the act of assisting or allowing another person to plagiarise or to copy my work.\n",
				"    \n",
				"    \n",
				"I/we agree and acknowledge that:\n",
				"1. I/we have read and understood the Declaration and Statement of Authorship above.\n",
				"2. If I/we do not agree to the Declaration and Statement of Authorship in this context and a signature is not included below, the assessment outcome is not valid for assessment purposes and will not be included in my final result for this course.\n",
				"\n",
				"Visit the student essentials Academic Integrity page for more information on [academic integrity at RMIT](https://www.rmit.edu.au/students/my-course/assessment-results/academic-integrity), including your responsibilities,\n",
				"breaches and penalties for academic misconduct.\n",
				"\n",
				"\n",
				"### Student Signature\n",
				"\"_I/we declare that I/we have read and understood the above Declaration and Statement of Authorship._\"\n",
				"\n",
				"You must write your full name and student ID in the table in the markdown cell at the top of this portfolio.<br>\n",
				"**Failure to do so may result in a grade penalty or a grade of zero.**"
			]
		},
		{
			"attachments": {},
			"cell_type": "markdown",
			"metadata": {},
			"source": [
				"<style>\n",
				"blockquote {\n",
				"  border: 3px dashed #00DCB4;\n",
				"  padding: 10px;\n",
				"}\n",
				"</style>\n",
				"\n",
				"> ## Instructions & Information\n",
				"> This notebook template has been provided to get you started on your portolfio. It is also structured for the automated marking tool SageGrader.\n",
				"> Therefore, we require that you use and edit the notebook correctly.\n",
				"> \n",
				"> ### How to use this Notebook for your Portfolio\n",
				"> To use your notebook, we kindly ask that:\n",
				"> 1. Place your answer to the question in the **existing** answer block, by double-clicking on the block you wish to edit.\n",
				"> 1. You **must not** delete any existing cells in this notebook and you **must not** modify any existing cell tags. If you accidentally delete a cell, you will need to ``undo'' the change, such using the  \"Edit → Undo\" VSCode menu option.\n",
				"> 1. In general, answer cells will have denoted placeholder content with dummy values, such as comments like *`my answer'*.\n",
				"> 1. You **must not** change any text in an existing cell that is **outside** of block to place your answers.\n",
				"> 1. To add images to this notebook you **must embedd the image** into the notebook. To do this:\n",
				">     1. Find the image on your computer (Windows: File Explorer, Mac: Finder). Note the image can't have spaces in the filename\n",
				">     1. \"Copy\" the image (Right-click on the image → Copy)\n",
				">     1. \"Paste\" the image into the cell below (Double click to edit the cell → Right-click → Paste)\n",
				">     1. If this is done correctly, you should see something of the form ``![image-name.png](attachment:image-name.png)``\n",
				">     1. Please make sure to press the tick '✔️' on the cell containing the image to ensure the attachment is added\n",
				"> 1. Please see Canvas for additional assessment instructions. \n",
				">\n",
				"> ### How to use Markdown syntax\n",
				"> This notebook uses the markdown syntax for formatting. For help on using Markdown, IBM has a good [Markdown Cheat-sheet](https://www.ibm.com/docs/en/watson-studio-local/1.2.3?topic=notebooks-markdown-jupyter-cheatsheet)."
			]
		},
		{
			"attachments": {},
			"cell_type": "markdown",
			"metadata": {},
			"source": [
				"<style>\n",
				"h2 {\n",
				"   text-align: center;\n",
				"}\n",
				"hr {\n",
				"  border: none;\n",
				"  border-top: 6px ridge #5c83de;\n",
				"}\n",
				"</style>\n",
				"___\n",
				"\n",
				"## Studio Class 13: Intermediate SQL\n",
				"\n",
				"### Preparation Activities"
			]
		},
		{
			"attachments": {},
			"cell_type": "markdown",
			"metadata": {},
			"source": [
				"**Questions**"
			]
		},
		{
			"attachments": {},
			"cell_type": "markdown",
			"metadata": {},
			"source": [
				"### **Studio Class (SC) 13, Question 1:** <a id=\"q13a\"></a>\n",
				"\n",
				"In your own words describe the concept of aggregate data and provide an example to support your description?"
			]
		},
		{
			"attachments": {},
			"cell_type": "markdown",
			"metadata": {
				"tags": [
					"q13a;longtext;1"
				]
			},
			"source": [
				"|Description | Answer |\n",
				"|---|---|\n",
				"| Describe the concept of aggregate data. | *My Answer* | \n",
				"| Example | *My Answer* |\n",
				"| How does DISTINCT impact aggregate data? | *My Answer* | \n"
			]
		},
		{
			"attachments": {},
			"cell_type": "markdown",
			"metadata": {},
			"source": [
				"### **Studio Class (SC) 13, Question 2:** <a id=\"q13b\"></a>\n",
				"\n",
				"What is the essential difference between a WHERE clause and the HAVING clause?"
			]
		},
		{
			"attachments": {},
			"cell_type": "markdown",
			"metadata": {
				"tags": [
					"q13b;longtext;1"
				]
			},
			"source": [
				"*My Answer*"
			]
		},
		{
			"attachments": {},
			"cell_type": "markdown",
			"metadata": {},
			"source": [
				"### **Studio Class (SC) 13, Question 3:** <a id=\"q13c\"></a>\n",
				"\n",
				"Explain what a trigger is and why we use them."
			]
		},
		{
			"attachments": {},
			"cell_type": "markdown",
			"metadata": {
				"tags": [
					"q13c;longtext;1"
				]
			},
			"source": [
				"*My Answer*"
			]
		},
		{
			"attachments": {},
			"cell_type": "markdown",
			"metadata": {},
			"source": [
				"### **Studio Class (SC) 13, Question 4:** <a id=\"q13d\"></a>\n",
				"\n",
				"Draw your own diagram to represent the following set operations:\n",
				"\n",
				"INTERSECT\n",
				"\n",
				"UNION"
			]
		},
		{
			"attachments": {},
			"cell_type": "markdown",
			"metadata": {
				"tags": [
					"q13d;img;1"
				]
			},
			"source": [
				"*My Image*"
			]
		},
		{
			"attachments": {},
			"cell_type": "markdown",
			"metadata": {},
			"source": [
				"### **Studio Class (SC) 13, Question 5:** <a id=\"q13e\"></a>\n",
				"\n",
				"Explain two advantages of using a view."
			]
		},
		{
			"attachments": {},
			"cell_type": "markdown",
			"metadata": {
				"tags": [
					"q13e;longtext;1"
				]
			},
			"source": [
				"*My Answer*"
			]
		},
		{
			"attachments": {},
			"cell_type": "markdown",
			"metadata": {},
			"source": [
				"### Studio Class Work"
			]
		},
		{
			"attachments": {},
			"cell_type": "markdown",
			"metadata": {},
			"source": [
				"**Questions**"
			]
		},
		{
			"attachments": {},
			"cell_type": "markdown",
			"metadata": {},
			"source": [
				"### **Studio Class (SC) 13, Question 6:** <a id=\"q13f\"></a>\n",
				"\n",
				"SQL Queries from Part A - Questions 1 - 4\n",
				"\n",
				"Provide the SQL queries you wrote."
			]
		},
		{
			"attachments": {},
			"cell_type": "markdown",
			"metadata": {
				"tags": [
					"q13f;longtext;1"
				]
			},
			"source": [
				"|Question | Answer |\n",
				"|---|---|\n",
				"| 1 | *My Answer* | \n",
				"| 2 | *My Answer* |\n",
				"| 3 | *My Answer* | \n",
				"| 4 | *My Answer* | \n"
			]
		},
		{
			"attachments": {},
			"cell_type": "markdown",
			"metadata": {},
			"source": [
				"### **Studio Class (SC) 13, Question 7:** <a id=\"q13g\"></a>\n",
				"\n",
				"SQL Queries from Part A - Questions 5 - 7\n",
				"\n",
				"Provide the SQL queries you wrote."
			]
		},
		{
			"attachments": {},
			"cell_type": "markdown",
			"metadata": {
				"tags": [
					"q13g;longtext;1"
				]
			},
			"source": [
				"|Question | Answer |\n",
				"|---|---|\n",
				"| 5 | *My Answer* | \n",
				"| 6 | *My Answer* |\n",
				"| 7 | *My Answer* | \n"
			]
		},
		{
			"attachments": {},
			"cell_type": "markdown",
			"metadata": {},
			"source": [
				"### **Studio Class (SC) 13, Question 8:** <a id=\"q13h\"></a>\n",
				"\n",
				"SQL Queries from Part A - Questions 8 - 10\n",
				"\n",
				"Provide the SQL queries you wrote."
			]
		},
		{
			"attachments": {},
			"cell_type": "markdown",
			"metadata": {
				"tags": [
					"q13h;longtext;1"
				]
			},
			"source": [
				"*My Answer*"
			]
		},
		{
			"attachments": {},
			"cell_type": "markdown",
			"metadata": {},
			"source": [
				"### **Studio Class (SC) 13, Question 9:** <a id=\"q13i\"></a>\n",
				"\n",
				"SQL Queries from Part B - Activity 1\n",
				"\n",
				"\n",
				"Provide the SQL for the view you wrote."
			]
		},
		{
			"attachments": {},
			"cell_type": "markdown",
			"metadata": {
				"tags": [
					"q13i;longtext;1"
				]
			},
			"source": [
				"*My Answer*"
			]
		},
		{
			"attachments": {},
			"cell_type": "markdown",
			"metadata": {},
			"source": [
				"### **Studio Class (SC) 13, Question 10:** <a id=\"q13j\"></a>\n",
				"\n",
				"SQL Queries from Part B - Activity 2\n",
				"\n",
				"Record your CREATE VIEW statement."
			]
		},
		{
			"attachments": {},
			"cell_type": "markdown",
			"metadata": {
				"tags": [
					"q13j;longtext;1"
				]
			},
			"source": [
				"|Question | Answer |\n",
				"|---|---|\n",
				"| VIEW Statement | *My Answer* | \n",
				"| Were you able to insert Steven Spielberg into dir_awards? | *My Answer* |\n",
				"| Why do you think this is the case? | *My Answer* | \n"
			]
		},
		{
			"attachments": {},
			"cell_type": "markdown",
			"metadata": {},
			"source": [
				"### **Studio Class (SC) 13, Question 11:** <a id=\"q13k\"></a>\n",
				"\n",
				"SQL Queries from Part B - Activity 3\n",
				"\n",
				"Your CREATE TABLE statement used to generate the table which stores the MPAA code and descriptions\n",
				"\n",
				"Your CREATE VIEW statement"
			]
		},
		{
			"attachments": {},
			"cell_type": "markdown",
			"metadata": {
				"tags": [
					"q13k;longtext;1"
				]
			},
			"source": [
				"|Question | Answer\n",
				"|---|---|\n",
				"| CREATE TABLE Statement | *My Answer* |\n",
				"| Your CREATE VIEW statement | *My Answer* |\n"
			]
		},
		{
			"attachments": {},
			"cell_type": "markdown",
			"metadata": {},
			"source": [
				"### **Studio Class (SC) 13, Question 12:** <a id=\"q13l\"></a>\n",
				"\n",
				"SQL Queries from Part B - Activity 4\n",
				"\n",
				"Record your final CREATE VIEW statement"
			]
		},
		{
			"attachments": {},
			"cell_type": "markdown",
			"metadata": {
				"tags": [
					"q13l;longtext;1"
				]
			},
			"source": [
				"*My Answer*"
			]
		},
		{
			"attachments": {},
			"cell_type": "markdown",
			"metadata": {},
			"source": [
				"<style>\n",
				"h2 {\n",
				"   text-align: center;\n",
				"}\n",
				"hr {\n",
				"  border: none;\n",
				"  border-top: 6px ridge #5c83de;\n",
				"}\n",
				"</style>\n",
				"___\n",
				"\n",
				"\n",
				"## Studio Class 14: Consolidating the Database Design Process\n",
				"\n",
				"### Preparation Activities"
			]
		},
		{
			"attachments": {},
			"cell_type": "markdown",
			"metadata": {},
			"source": [
				"**Questions**"
			]
		},
		{
			"attachments": {},
			"cell_type": "markdown",
			"metadata": {},
			"source": [
				"### **Studio Class (SC) 14, Question 1:** <a id=\"q14a\"></a>\n",
				"\n",
				"My ER Model & relational schema of the Film business case"
			]
		},
		{
			"attachments": {},
			"cell_type": "markdown",
			"metadata": {
				"tags": [
					"q14a;img;1"
				]
			},
			"source": [
				"*My Image*"
			]
		},
		{
			"attachments": {},
			"cell_type": "markdown",
			"metadata": {},
			"source": [
				"### Studio Class Work"
			]
		},
		{
			"attachments": {},
			"cell_type": "markdown",
			"metadata": {},
			"source": [
				"**Questions**"
			]
		},
		{
			"attachments": {},
			"cell_type": "markdown",
			"metadata": {},
			"source": [
				"### **Studio Class (SC) 14, Question 2:** <a id=\"q14b\"></a>\n",
				"\n",
				"Provide a diagram that includes your ER Diagram and relational schema that you created for the Facebook lite application."
			]
		},
		{
			"attachments": {},
			"cell_type": "markdown",
			"metadata": {
				"tags": [
					"q14b;img;1"
				]
			},
			"source": [
				"*My Image*"
			]
		},
		{
			"attachments": {},
			"cell_type": "markdown",
			"metadata": {},
			"source": [
				"<style>\n",
				"h2 {\n",
				"   text-align: center;\n",
				"}\n",
				"hr {\n",
				"  border: none;\n",
				"  border-top: 6px ridge #5c83de;\n",
				"}\n",
				"</style>\n",
				"___\n",
				"\n",
				"\n",
				"## Studio Class 15: Database Normalisation (Part 1)\n",
				"\n",
				"### Preparation Activities"
			]
		},
		{
			"attachments": {},
			"cell_type": "markdown",
			"metadata": {},
			"source": [
				"**Questions**"
			]
		},
		{
			"attachments": {},
			"cell_type": "markdown",
			"metadata": {},
			"source": [
				"### **Studio Class (SC) 15, Question 1:** <a id=\"q15a\"></a>\n",
				"\n",
				"List 3 benefits of normalisation"
			]
		},
		{
			"attachments": {},
			"cell_type": "markdown",
			"metadata": {
				"tags": [
					"q15a;longtext;1"
				]
			},
			"source": [
				"*My Answer*"
			]
		},
		{
			"attachments": {},
			"cell_type": "markdown",
			"metadata": {},
			"source": [
				"### **Studio Class (SC) 15, Question 2:** <a id=\"q15b\"></a>\n",
				"\n",
				"Activity - Describe in one sentence (in your own words)"
			]
		},
		{
			"attachments": {},
			"cell_type": "markdown",
			"metadata": {
				"tags": [
					"q15b;longtext;1"
				]
			},
			"source": [
				"|Question | Answer |\n",
				"|---|---|\n",
				"| 1NF | *My Answer* | \n",
				"| 2NF | *My Answer* |\n",
				"| 3NF | *My Answer* |"
			]
		},
		{
			"attachments": {},
			"cell_type": "markdown",
			"metadata": {},
			"source": [
				"### **Studio Class (SC) 15, Question 3:** <a id=\"q15c\"></a>\n",
				"\n",
				"Activity 1 - List all the functional dependencies from the poorly designed Employee Relational Schema"
			]
		},
		{
			"attachments": {},
			"cell_type": "markdown",
			"metadata": {
				"tags": [
					"q15c;longtext;1"
				]
			},
			"source": [
				"*My Answer*"
			]
		},
		{
			"attachments": {},
			"cell_type": "markdown",
			"metadata": {},
			"source": [
				"### **Studio Class (SC) 15, Question 4:** <a id=\"q15d\"></a>\n",
				"\n",
				"Activity 2 - List all functional dependencies for the RouteAllocation entity"
			]
		},
		{
			"attachments": {},
			"cell_type": "markdown",
			"metadata": {
				"tags": [
					"q15d;longtext;1"
				]
			},
			"source": [
				"*My Answer*"
			]
		},
		{
			"attachments": {},
			"cell_type": "markdown",
			"metadata": {},
			"source": [
				"### **Studio Class (SC) 15, Question 5:** <a id=\"q15e\"></a>\n",
				"\n",
				"Activity 2 - List all functional dependencies for the Bus entity"
			]
		},
		{
			"attachments": {},
			"cell_type": "markdown",
			"metadata": {
				"tags": [
					"q15e;longtext;1"
				]
			},
			"source": [
				"*My Answer*"
			]
		},
		{
			"attachments": {},
			"cell_type": "markdown",
			"metadata": {},
			"source": [
				"### **Studio Class (SC) 15, Question 6:** <a id=\"q15f\"></a>\n",
				"\n",
				"Identify and explain if the Bus entity satisfies:\n",
				"1st Normal Form\n",
				"2nd Normal Form\n",
				"3rd Normal Form"
			]
		},
		{
			"attachments": {},
			"cell_type": "markdown",
			"metadata": {
				"tags": [
					"q15f;longtext;1"
				]
			},
			"source": [
				"|Question | Answer |\n",
				"|---|---|\n",
				"| 1NF | *My Answer* | \n",
				"| 2NF | *My Answer* |\n",
				"| 3NF | *My Answer* |"
			]
		},
		{
			"attachments": {},
			"cell_type": "markdown",
			"metadata": {},
			"source": [
				"### Studio Class Work"
			]
		},
		{
			"attachments": {},
			"cell_type": "markdown",
			"metadata": {},
			"source": [
				"**Questions**"
			]
		},
		{
			"attachments": {},
			"cell_type": "markdown",
			"metadata": {},
			"source": [
				"### **Studio Class (SC) 15, Question 7:** <a id=\"q15g\"></a>\n",
				"\n",
				"Activity 2 - List the functional dependencies of the invoice relation in the Roc Concrete Store database (after removing redundant data)."
			]
		},
		{
			"attachments": {},
			"cell_type": "markdown",
			"metadata": {
				"tags": [
					"q15g;longtext;1"
				]
			},
			"source": [
				"*My Answer*"
			]
		},
		{
			"attachments": {},
			"cell_type": "markdown",
			"metadata": {},
			"source": [
				"### **Studio Class (SC) 15, Question 8:** <a id=\"q15h\"></a>\n",
				"\n",
				"What primary key did you choose for the Invoice relation?"
			]
		},
		{
			"attachments": {},
			"cell_type": "markdown",
			"metadata": {
				"tags": [
					"q15h;longtext;1"
				]
			},
			"source": [
				"*My Answer*"
			]
		},
		{
			"attachments": {},
			"cell_type": "markdown",
			"metadata": {},
			"source": [
				"### **Studio Class (SC) 15, Question 9:** <a id=\"q15i\"></a>\n",
				"\n",
				"Which normal form does the invoice relation satisfy and why?"
			]
		},
		{
			"attachments": {},
			"cell_type": "markdown",
			"metadata": {
				"tags": [
					"q15i;longtext;1"
				]
			},
			"source": [
				"*My Answer*"
			]
		},
		{
			"attachments": {},
			"cell_type": "markdown",
			"metadata": {},
			"source": [
				"### **Studio Class (SC) 15, Question 10:** <a id=\"q15j\"></a>\n",
				"\n",
				"Your Invoice relation that has been decomposed into 3NF"
			]
		},
		{
			"attachments": {},
			"cell_type": "markdown",
			"metadata": {
				"tags": [
					"q15j;longtext;1"
				]
			},
			"source": [
				"*My Answer*"
			]
		},
		{
			"attachments": {},
			"cell_type": "markdown",
			"metadata": {},
			"source": [
				"### **Studio Class (SC) 15, Question 11:** <a id=\"q15k\"></a>\n",
				"\n",
				"Provide your final database schema for the online bookstore that was arrived at by using the top-down approach."
			]
		},
		{
			"attachments": {},
			"cell_type": "markdown",
			"metadata": {
				"tags": [
					"q15k;longtext;1"
				]
			},
			"source": [
				"*My Answer*"
			]
		},
		{
			"attachments": {},
			"cell_type": "markdown",
			"metadata": {},
			"source": [
				"<style>\n",
				"h2 {\n",
				"   text-align: center;\n",
				"}\n",
				"hr {\n",
				"  border: none;\n",
				"  border-top: 6px ridge #5c83de;\n",
				"}\n",
				"</style>\n",
				"___\n",
				"\n",
				"\n",
				"## Studio Class 16: Database Normalisation (Part 2)\n",
				"\n",
				"### Preparation Activities"
			]
		},
		{
			"attachments": {},
			"cell_type": "markdown",
			"metadata": {},
			"source": [
				"**Questions**\n",
				"\n",
				"No preparation activities for Studio Class 16"
			]
		},
		{
			"attachments": {},
			"cell_type": "markdown",
			"metadata": {},
			"source": [
				"### Studio Class Work"
			]
		},
		{
			"attachments": {},
			"cell_type": "markdown",
			"metadata": {},
			"source": [
				"**Questions**"
			]
		},
		{
			"attachments": {},
			"cell_type": "markdown",
			"metadata": {},
			"source": [
				"### **Studio Class (SC) 16, Question 1:** <a id=\"q16a\"></a>\n",
				"\n",
				"Activity 1 - Provide your final database schema for the online bookstore that was arrived at by using the bottom-up approach."
			]
		},
		{
			"attachments": {},
			"cell_type": "markdown",
			"metadata": {
				"tags": [
					"q16a;longtext;1"
				]
			},
			"source": [
				"*My Answer*"
			]
		},
		{
			"attachments": {},
			"cell_type": "markdown",
			"metadata": {},
			"source": [
				"### **Studio Class (SC) 16, Question 2:** <a id=\"q16b\"></a>\n",
				"\n",
				"Activity 2 - Draw a modified ER diagram to accommodate the additional requirements for the bus company."
			]
		},
		{
			"attachments": {},
			"cell_type": "markdown",
			"metadata": {
				"tags": [
					"q16b;img;1"
				]
			},
			"source": [
				"*My Image*"
			]
		},
		{
			"attachments": {},
			"cell_type": "markdown",
			"metadata": {},
			"source": [
				"### **Studio Class (SC) 16, Question 3:** <a id=\"q16c\"></a>\n",
				"\n",
				"Activity 2 - Provide the final database schema you generated from your ER diagram."
			]
		},
		{
			"attachments": {},
			"cell_type": "markdown",
			"metadata": {
				"tags": [
					"q16c;longtext;1"
				]
			},
			"source": [
				"*My Answer*"
			]
		},
		{
			"attachments": {},
			"cell_type": "markdown",
			"metadata": {},
			"source": [
				"### **Studio Class (SC) 16, Question 4:** <a id=\"q16d\"></a>\n",
				"\n",
				"Activity 2 - Did you decompose any relations that were not in 3NF? Provide examples."
			]
		},
		{
			"attachments": {},
			"cell_type": "markdown",
			"metadata": {
				"tags": [
					"q16d;longtext;1"
				]
			},
			"source": [
				"*My Answer*"
			]
		}
	],
	"metadata": {
		"kernelspec": {
			"display_name": "Python 3",
			"language": "python",
			"name": "python3"
		},
		"language_info": {
			"name": "python",
			"version": "3.11.2"
		},
		"orig_nbformat": 4,
		"vscode": {
			"interpreter": {
				"hash": "054c096e4d4b57417bb781656d4f5218b0e3c2d49c7047d1ff7347fb636be8e8"
			}
		}
	},
	"nbformat": 4,
	"nbformat_minor": 2
}
